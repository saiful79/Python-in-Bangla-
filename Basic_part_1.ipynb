{
 "cells": [
  {
   "cell_type": "code",
   "execution_count": 5,
   "metadata": {},
   "outputs": [
    {
     "name": "stdout",
     "output_type": "stream",
     "text": [
      "Hello python\n",
      "Hello python\n",
      "Hello python\n",
      "0.70\n"
     ]
    }
   ],
   "source": [
    "#uses print and input function in python\n",
    "\n",
    "print(\"Hello python\")\n",
    "\n",
    "print(\"%s\" %\"Hello python\")\n",
    "\n",
    "print(\"{}\".format(\"Hello python\"))\n",
    "\n",
    "print(\"%0.2f\" %0.698698589)"
   ]
  },
  {
   "cell_type": "code",
   "execution_count": 9,
   "metadata": {},
   "outputs": [
    {
     "name": "stdout",
     "output_type": "stream",
     "text": [
      "10\n",
      "<class 'str'>\n",
      "Please enter 1010\n",
      "10\n",
      "<class 'int'>\n"
     ]
    }
   ],
   "source": [
    "# python input function take input as a string\n",
    "x=input()\n",
    "print(type(x))\n",
    "x = int(input(\"Please enter 10\"))\n",
    "print(x)\n",
    "print(type(x))"
   ]
  },
  {
   "cell_type": "code",
   "execution_count": 11,
   "metadata": {},
   "outputs": [
    {
     "data": {
      "text/plain": [
       "0"
      ]
     },
     "execution_count": 11,
     "metadata": {},
     "output_type": "execute_result"
    }
   ],
   "source": [
    "#mathematical operation in python\n",
    "5+5"
   ]
  },
  {
   "cell_type": "code",
   "execution_count": 12,
   "metadata": {},
   "outputs": [
    {
     "data": {
      "text/plain": [
       "0"
      ]
     },
     "execution_count": 12,
     "metadata": {},
     "output_type": "execute_result"
    }
   ],
   "source": [
    "5-5"
   ]
  },
  {
   "cell_type": "code",
   "execution_count": 13,
   "metadata": {},
   "outputs": [
    {
     "name": "stdout",
     "output_type": "stream",
     "text": [
      "5\n",
      "5\n",
      "55\n"
     ]
    }
   ],
   "source": [
    "# it output produce 55\n",
    "x = input()\n",
    "y = input()\n",
    "print(x+y)\n",
    "#find out the region why produce 55"
   ]
  },
  {
   "cell_type": "code",
   "execution_count": 15,
   "metadata": {},
   "outputs": [
    {
     "name": "stdout",
     "output_type": "stream",
     "text": [
      "4\n",
      "5\n",
      "9\n",
      "13\n",
      "-1\n",
      "-5\n"
     ]
    }
   ],
   "source": [
    "#simply addtion and substration in python\n",
    "x = int(input())\n",
    "y = int(input())\n",
    "\n",
    "print(x+y)\n",
    "print(x+x+y)\n",
    "print(x-y)\n",
    "print(x-x-y)"
   ]
  },
  {
   "cell_type": "code",
   "execution_count": 16,
   "metadata": {},
   "outputs": [
    {
     "name": "stdout",
     "output_type": "stream",
     "text": [
      "5\n",
      "5\n",
      "25\n",
      "1.0\n"
     ]
    }
   ],
   "source": [
    "#multiply and division\n",
    "x = int(input())\n",
    "y = int(input())\n",
    "print(x*y)\n",
    "print(x/y)"
   ]
  },
  {
   "cell_type": "code",
   "execution_count": 22,
   "metadata": {},
   "outputs": [
    {
     "name": "stdout",
     "output_type": "stream",
     "text": [
      "4\n",
      "8\n",
      "2.0\n",
      "2.8284271247461903\n"
     ]
    }
   ],
   "source": [
    "#powder and square root\n",
    "#such as 2^2\n",
    "import math\n",
    "x = 2**2\n",
    "y = 2**3\n",
    "\n",
    "print(x)\n",
    "print(y)\n",
    "\n",
    "print(math.sqrt(x))\n",
    "print(math.sqrt(y))\n"
   ]
  },
  {
   "cell_type": "code",
   "execution_count": 24,
   "metadata": {},
   "outputs": [
    {
     "name": "stdout",
     "output_type": "stream",
     "text": [
      "31\n"
     ]
    }
   ],
   "source": [
    "#such as solve this Equation,\n",
    "#x = y^2+z^3\n",
    "y = 2\n",
    "z = 3\n",
    "x = y**2+z**3\n",
    "print(x)"
   ]
  }
 ],
 "metadata": {
  "kernelspec": {
   "display_name": "Python [conda env:tf3] *",
   "language": "python",
   "name": "conda-env-tf3-py"
  },
  "language_info": {
   "codemirror_mode": {
    "name": "ipython",
    "version": 3
   },
   "file_extension": ".py",
   "mimetype": "text/x-python",
   "name": "python",
   "nbconvert_exporter": "python",
   "pygments_lexer": "ipython3",
   "version": "3.6.2"
  }
 },
 "nbformat": 4,
 "nbformat_minor": 2
}
